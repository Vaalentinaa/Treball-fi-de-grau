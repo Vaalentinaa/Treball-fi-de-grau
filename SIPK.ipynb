{
 "cells": [
  {
   "cell_type": "code",
   "execution_count": 1,
   "metadata": {},
   "outputs": [],
   "source": [
    "%run Classes_and_functions.ipynb"
   ]
  },
  {
   "cell_type": "code",
   "execution_count": 32,
   "metadata": {},
   "outputs": [],
   "source": [
    "import hashlib\n",
    "from sage.crypto.util import bin_to_ascii"
   ]
  },
  {
   "cell_type": "code",
   "execution_count": 20,
   "metadata": {},
   "outputs": [],
   "source": [
    "hash_fun=hashlib.sha256"
   ]
  },
  {
   "cell_type": "code",
   "execution_count": 2,
   "metadata": {},
   "outputs": [],
   "source": [
    "ea=216\n",
    "eb=137\n",
    "f=1"
   ]
  },
  {
   "cell_type": "code",
   "execution_count": 3,
   "metadata": {},
   "outputs": [],
   "source": [
    "p=2^ea*3^eb*f-1"
   ]
  },
  {
   "cell_type": "code",
   "execution_count": 4,
   "metadata": {},
   "outputs": [],
   "source": [
    "F=GF(p^2,'z')"
   ]
  },
  {
   "cell_type": "code",
   "execution_count": 5,
   "metadata": {},
   "outputs": [
    {
     "data": {
      "text/html": [
       "<html><script type=\"math/tex; mode=display\">\\newcommand{\\Bold}[1]{\\mathbf{#1}}\\verb|1y^2|\\phantom{\\verb!x!}\\verb|=|\\phantom{\\verb!x!}\\verb|x^3|\\phantom{\\verb!x!}\\verb|+|\\phantom{\\verb!x!}\\verb|6x^2|\\phantom{\\verb!x!}\\verb|+|\\phantom{\\verb!x!}\\verb|x|</script></html>"
      ],
      "text/plain": [
       "<__main__.MontgomeryEC instance at 0x12b4b9908>"
      ]
     },
     "metadata": {},
     "output_type": "display_data"
    }
   ],
   "source": [
    "E=MontgomeryEC(6,1,F)\n",
    "show(E)"
   ]
  },
  {
   "cell_type": "code",
   "execution_count": 6,
   "metadata": {},
   "outputs": [
    {
     "data": {
      "text/html": [
       "<html><script type=\"math/tex; mode=display\">\\newcommand{\\Bold}[1]{\\mathbf{#1}}\\verb|(14063194471321830808377372484088788044031079825058407633169748188503445636046496503022523145012552246045910675733141462777387596012*z|\\phantom{\\verb!x!}\\verb|+|\\phantom{\\verb!x!}\\verb|15152778499642714297861920593445762273562959204902248790653737274593462156022408074950039878685826306929181802504641204648559538504,999303446075794518591497060535612420198525934543000959853238843217335521184851782041162196331720168897767582547509367468467038705*z|\\phantom{\\verb!x!}\\verb|+|\\phantom{\\verb!x!}\\verb|1854355317282162798107315399034116915911042524108612125505774985499751375493485560508206419006981663934999248633100525544960814824)|</script></html>"
      ],
      "text/plain": [
       "<__main__.Point object at 0x12b8072d0>"
      ]
     },
     "metadata": {},
     "output_type": "display_data"
    },
    {
     "data": {
      "text/html": [
       "<html><script type=\"math/tex; mode=display\">\\newcommand{\\Bold}[1]{\\mathbf{#1}}\\verb|(3068323055138992453821661361471581884082825565076826698788081290074798210154280443866447224516370363916753273989223587055553501013*z|\\phantom{\\verb!x!}\\verb|+|\\phantom{\\verb!x!}\\verb|18858686114618724251413420019262658034711317343911989145044466113960473526911757690652492620454515628255991061648681490392497899782,20650241140937616626417921108461973320946715357228923718418274186099265336655490959363561392937493478384710085328402880447334875773*z|\\phantom{\\verb!x!}\\verb|+|\\phantom{\\verb!x!}\\verb|2276297035410348590274430948200225233569040494583316291167089507452297729474340563451475360191926676293638543749701292718023825235)|</script></html>"
      ],
      "text/plain": [
       "<__main__.Point object at 0x12b1ea0d0>"
      ]
     },
     "metadata": {},
     "output_type": "display_data"
    }
   ],
   "source": [
    "while true:\n",
    "    P=E.random_point()\n",
    "    Pa=P*(3^eb*f)^2\n",
    "    if Pa.order_torsion(2,ea)==2^ea:\n",
    "        break\n",
    "show(Pa)\n",
    "while true:\n",
    "    Q=E.random_point()\n",
    "    Qa=Q*(3^eb*f)^2\n",
    "    W=Pa.Weil_pairing(Qa,2^ea)\n",
    "    if Qa.order_torsion(2,ea)==2^ea and check_order_F(W,2) == ea:\n",
    "        break\n",
    "show(Qa)"
   ]
  },
  {
   "cell_type": "code",
   "execution_count": 7,
   "metadata": {},
   "outputs": [
    {
     "data": {
      "text/html": [
       "<html><script type=\"math/tex; mode=display\">\\newcommand{\\Bold}[1]{\\mathbf{#1}}\\verb|(3140023563956136375190038227865097991835581829708847491083702755498909957929791847615812596480427264541405609839072110052313254883*z|\\phantom{\\verb!x!}\\verb|+|\\phantom{\\verb!x!}\\verb|291236193740316227476156966250797684612447376979073766503086214410398902569085902538520835580667352909357657328659027925229166711,4445433491065089818841044511073427234084175209714556889070391193892881543401868732113316301499255075583638958461895629653272536512*z|\\phantom{\\verb!x!}\\verb|+|\\phantom{\\verb!x!}\\verb|5366307960463276606546564457431540955428255707296406138900256605207499086738474896407836012238803057399111838653150507329300921566)|</script></html>"
      ],
      "text/plain": [
       "<__main__.Point object at 0x12b807850>"
      ]
     },
     "metadata": {},
     "output_type": "display_data"
    },
    {
     "data": {
      "text/html": [
       "<html><script type=\"math/tex; mode=display\">\\newcommand{\\Bold}[1]{\\mathbf{#1}}\\verb|(2616546322375384579090261005784130577987681440181147110493143919379185968519283468679067560481168571248487020928104504242962695758*z|\\phantom{\\verb!x!}\\verb|+|\\phantom{\\verb!x!}\\verb|1272910957568752738646561421168833839805446464298386287993683798528475719572582524017570671549458185044430144726897105694659475247,16140371549587203005652785179482655544031355454178889049240180152305311574889783573708268460924510709858681786643585766092134048131*z|\\phantom{\\verb!x!}\\verb|+|\\phantom{\\verb!x!}\\verb|20833843859808957697036796714651910636343106025517228734293715734695485727845544615910982811104943566914532619889509475524085355180)|</script></html>"
      ],
      "text/plain": [
       "<__main__.Point object at 0x123988d90>"
      ]
     },
     "metadata": {},
     "output_type": "display_data"
    }
   ],
   "source": [
    "while true:\n",
    "    P=E.random_point()\n",
    "    Pb=P*(2^ea*f)^2\n",
    "    if Pb.order_torsion(3,eb)==3^eb:\n",
    "        break\n",
    "show(Pb)\n",
    "while true:\n",
    "    Q=E.random_point()\n",
    "    Qb=Q*(2^ea*f)^2\n",
    "    W = Pb.Weil_pairing(Qb,3^eb)\n",
    "    if Qb.order_torsion(3,eb)==3^eb and check_order_F(W,3) == eb:\n",
    "        break\n",
    "show(Qb)"
   ]
  },
  {
   "cell_type": "code",
   "execution_count": 87,
   "metadata": {},
   "outputs": [],
   "source": [
    "DATABASE={}\n",
    "PC={}\n",
    "MESSAGES={}"
   ]
  },
  {
   "cell_type": "code",
   "execution_count": 89,
   "metadata": {},
   "outputs": [
    {
     "name": "stdout",
     "output_type": "stream",
     "text": [
      "Write your username:Alice\n",
      "Choose your password:1234\n",
      "Remember your password to acces to your private key!\n"
     ]
    }
   ],
   "source": [
    "'''\n",
    "Create user\n",
    "'''\n",
    "\n",
    "name=raw_input(\"Write your username:\")\n",
    "if name in DATABASE.keys():\n",
    "    print(\"Username already taken\")\n",
    "else:\n",
    "    password=raw_input(\"Choose your password:\")\n",
    "    while True:\n",
    "        RT=point_torsion(Pa,Qa,2,ea)\n",
    "        R=RT[0]\n",
    "        ta=RT[1]\n",
    "        if (R*pow(2,ea-1)).x!=0:\n",
    "            break\n",
    "    phiA=iso_2_e(R,ea,E.a,E.b,Pb,Qb)\n",
    "    EaA=phiA[0][0]\n",
    "    EaB=phiA[0][1]\n",
    "    phiAPb=phiA[1][0]\n",
    "    phiAQb=phiA[1][1]\n",
    "\n",
    "    DATABASE[name]=(EaA,EaB,phiAPb,phiAQb)\n",
    "    cip_pass=hash_fun(password).hexdigest()\n",
    "    PC[(name,cip_pass)]=(ta)\n",
    "    print(\"Remember your password to acces to your private key!\")"
   ]
  },
  {
   "cell_type": "code",
   "execution_count": 90,
   "metadata": {},
   "outputs": [
    {
     "name": "stdout",
     "output_type": "stream",
     "text": [
      "Enter your username:Bob\n",
      "Enter your password:password\n",
      "Who do you want to send the message to?\n",
      "Alice\n",
      "Write your message:\n",
      "Hi, how are you?\n"
     ]
    }
   ],
   "source": [
    "'''\n",
    "Send message\n",
    "'''\n",
    "user=raw_input(\"Enter your username:\")\n",
    "password=raw_input(\"Enter your password:\")\n",
    "cip_pass=hash_fun(password).hexdigest()\n",
    "if (user,cip_pass) not in PC.keys():\n",
    "    print(\"Wrong user or password\")\n",
    "else:\n",
    "    print(\"Who do you want to send the message to?\")\n",
    "    dest=raw_input()\n",
    "    if dest not in DATABASE.keys():\n",
    "        print(\"Username doesn't exist\")\n",
    "    else:\n",
    "        print(\"Write your message:\")\n",
    "        m=raw_input()\n",
    "        m=m.encode(\"hex\")\n",
    "        pk=DATABASE[dest]\n",
    "        ST=point_torsion(Pb,Qb,3,eb)\n",
    "        S=ST[0]\n",
    "        tb=ST[1]\n",
    "        phiB=iso_3_e(S,eb,E.a,E.b,Pa,Qa)\n",
    "        EbA=phiB[0][0]\n",
    "        EbB=phiB[0][1]\n",
    "        phiBPa=phiB[1][0]\n",
    "        phiBQa=phiB[1][1]\n",
    "        phiAS1=pk[3]*tb\n",
    "        phiAS=phiAS1+pk[2]\n",
    "        psiB=iso_3_e(phiAS,eb,pk[0],pk[1])\n",
    "        EbaA=psiB[0][0]\n",
    "        EbaB=psiB[0][1]\n",
    "        Eba=MontgomeryEC(EbaA,EbaB,F)\n",
    "        j=str(Eba.j_invariant())\n",
    "        h=hash_fun(j.encode('ascii')).hexdigest()\n",
    "        c=ZZ(h,16)^^ZZ(m,16)\n",
    "        if dest not in MESSAGES.keys():\n",
    "            MESSAGES[(dest)]=((user,EbA,EbB,phiBPa,phiBQa,c))\n",
    "        else:\n",
    "            MESSAGES[(dest)]=(MESSAGES[dest],(user,EbA,EbB,phiBPa,phiBQa,c))"
   ]
  },
  {
   "cell_type": "code",
   "execution_count": 91,
   "metadata": {},
   "outputs": [
    {
     "name": "stdout",
     "output_type": "stream",
     "text": [
      "Enter your username:Alice\n",
      "Enter your password:1234\n",
      "New message from Bob:\n",
      "Hi, how are you?\n"
     ]
    }
   ],
   "source": [
    "'''\n",
    "View messages\n",
    "'''\n",
    "user=raw_input(\"Enter your username:\")\n",
    "password=raw_input(\"Enter your password:\")\n",
    "cip_pass=hash_fun(password).hexdigest()\n",
    "if (user,cip_pass) not in PC.keys():\n",
    "    print(\"Wrong user or password\")\n",
    "elif user not in MESSAGES.keys():\n",
    "    print(\"No new messages\")\n",
    "else:\n",
    "    for i in range(len(MESSAGES[user])):\n",
    "        pvk=PC[user,cip_pass]\n",
    "        if len(MESSAGES[user][i])!=6:\n",
    "            ct=MESSAGES[user]\n",
    "            remitente=MESSAGES[user][0]\n",
    "        else:\n",
    "            ct=MESSAGES[user][i]\n",
    "            remitente=MESSAGES[user][i][0]\n",
    "        phiBR1=pvk*ct[4]\n",
    "        phiBR=phiBR1+ct[3]\n",
    "        psiA=iso_2_e(phiBR,ea,ct[1],ct[2])\n",
    "        EbaA=psiA[0][0]\n",
    "        EbaB=psiA[0][1]\n",
    "        Eba=MontgomeryEC(EbaA,EbaB,F)\n",
    "        j=str(Eba.j_invariant())\n",
    "        h=hash_fun(j.encode('ascii')).hexdigest()\n",
    "        m=ZZ(h,16)^^ZZ(ct[5],16)\n",
    "        m=bin(m)[2:]\n",
    "        while True:\n",
    "            if len(m) % 8 !=0:\n",
    "                m= '0'+m\n",
    "            else:\n",
    "                break\n",
    "\n",
    "        print(\"New message from \"+ remitente+\":\")\n",
    "        print(bin_to_ascii(m))\n",
    "        if len(MESSAGES[user][i])!=6:\n",
    "            break\n",
    "    del MESSAGES[user]"
   ]
  },
  {
   "cell_type": "code",
   "execution_count": null,
   "metadata": {},
   "outputs": [],
   "source": []
  }
 ],
 "metadata": {
  "kernelspec": {
   "display_name": "SageMath 9.1",
   "language": "sage",
   "name": "sagemath"
  },
  "language_info": {
   "codemirror_mode": {
    "name": "ipython",
    "version": 2
   },
   "file_extension": ".py",
   "mimetype": "text/x-python",
   "name": "python",
   "nbconvert_exporter": "python",
   "pygments_lexer": "ipython2",
   "version": "2.7.15"
  }
 },
 "nbformat": 4,
 "nbformat_minor": 2
}
