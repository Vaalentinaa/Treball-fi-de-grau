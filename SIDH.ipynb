{
 "cells": [
  {
   "cell_type": "code",
   "execution_count": 32,
   "metadata": {},
   "outputs": [],
   "source": [
    "%run Classes_and_functions.ipynb"
   ]
  },
  {
   "cell_type": "code",
   "execution_count": 33,
   "metadata": {},
   "outputs": [],
   "source": [
    "ea=216\n",
    "eb=137\n",
    "f=1"
   ]
  },
  {
   "cell_type": "code",
   "execution_count": 34,
   "metadata": {},
   "outputs": [],
   "source": [
    "p=2^ea*3^eb*f-1"
   ]
  },
  {
   "cell_type": "code",
   "execution_count": 35,
   "metadata": {},
   "outputs": [],
   "source": [
    "F=GF(p^2,'z')"
   ]
  },
  {
   "cell_type": "code",
   "execution_count": 36,
   "metadata": {},
   "outputs": [
    {
     "data": {
      "text/html": [
       "<html><script type=\"math/tex; mode=display\">\\newcommand{\\Bold}[1]{\\mathbf{#1}}\\verb|1y^2|\\phantom{\\verb!x!}\\verb|=|\\phantom{\\verb!x!}\\verb|x^3|\\phantom{\\verb!x!}\\verb|+|\\phantom{\\verb!x!}\\verb|6x^2|\\phantom{\\verb!x!}\\verb|+|\\phantom{\\verb!x!}\\verb|x|</script></html>"
      ],
      "text/plain": [
       "<__main__.MontgomeryEC instance at 0x126c0e248>"
      ]
     },
     "metadata": {},
     "output_type": "display_data"
    }
   ],
   "source": [
    "E=MontgomeryEC(6,1,F)\n",
    "show(E)"
   ]
  },
  {
   "cell_type": "code",
   "execution_count": 37,
   "metadata": {},
   "outputs": [
    {
     "data": {
      "text/html": [
       "<html><script type=\"math/tex; mode=display\">\\newcommand{\\Bold}[1]{\\mathbf{#1}}\\verb|(9397835696011156767146386657752382905206048977622289642083902931063173186764273321757730316132389463724565956201772281335753897612*z|\\phantom{\\verb!x!}\\verb|+|\\phantom{\\verb!x!}\\verb|21981974941893094420532403668295534914375037273871313405888863696257538551059162722143443320833042050840001833334768587077515660794,17080693061384355528412247441045649618663468358510041048587569645928572088638374238616092649662408151700129769102183770250766304417*z|\\phantom{\\verb!x!}\\verb|+|\\phantom{\\verb!x!}\\verb|17946593320666431660300663399285731642481142942684093878474830095091130465560162630415197217018696541026933412697433225147955162985)|</script></html>"
      ],
      "text/plain": [
       "<__main__.Point object at 0x126c87550>"
      ]
     },
     "metadata": {},
     "output_type": "display_data"
    },
    {
     "data": {
      "text/html": [
       "<html><script type=\"math/tex; mode=display\">\\newcommand{\\Bold}[1]{\\mathbf{#1}}\\verb|(15951627824097689199004212100823770797363116676683108911726721479036086451635755831512798350403988938934519381452529772486173220676*z|\\phantom{\\verb!x!}\\verb|+|\\phantom{\\verb!x!}\\verb|2710124992499531543345663524928027057327277252199092613983781904555113297270527301244816893042379055927082964790405882632830591405,702451020062777937070683288295491177693142307724008329265512625296084241261434232258507109179107245474193975821058848016510833221*z|\\phantom{\\verb!x!}\\verb|+|\\phantom{\\verb!x!}\\verb|24156603756031255942985119204257859269292369153939915392440886881754582481849722332389032844891916098434820438069196746268999511478)|</script></html>"
      ],
      "text/plain": [
       "<__main__.Point object at 0x126bfad90>"
      ]
     },
     "metadata": {},
     "output_type": "display_data"
    },
    {
     "data": {
      "text/html": [
       "<html><script type=\"math/tex; mode=display\">\\newcommand{\\Bold}[1]{\\mathbf{#1}}\\verb|(21917184238712135510190365485693771837444453331309557578378047286495119761291175456182613944430852072086822390918303195833691337574*z|\\phantom{\\verb!x!}\\verb|+|\\phantom{\\verb!x!}\\verb|1783544511637284075565562367884122539058183762753234694337821878427960453207659094759863680092984997334499386845710158640375842933,748662789835558076557509297061510780592846363218751740652376370758814971150854598858829097516522715278506588051405525907889454576*z|\\phantom{\\verb!x!}\\verb|+|\\phantom{\\verb!x!}\\verb|249893852808974533034668237220762969583245660909764073772192178130254770422648590605217865222745862663293865325494367125047878914)|</script></html>"
      ],
      "text/plain": [
       "<__main__.Point object at 0x126bfadd0>"
      ]
     },
     "metadata": {},
     "output_type": "display_data"
    }
   ],
   "source": [
    "'''\n",
    "Finding basis of E[2^ea] and point of order 2^ea\n",
    "'''\n",
    "while true:\n",
    "    for i in range(1000):\n",
    "        P=E.random_point()\n",
    "        Pa=P*(3^eb*f)^2\n",
    "        if Pa.order_torsion(2,ea)==2^ea:\n",
    "            break\n",
    "    show(Pa)\n",
    "    for i in range(1000):\n",
    "        Q=E.random_point()\n",
    "        Qa=Q*(3^eb*f)^2\n",
    "        W=Pa.Weil_pairing(Qa,2^ea)\n",
    "        if Qa.order_torsion(2,ea)==2^ea and check_order_F(W,2) == ea:\n",
    "            break\n",
    "    show(Qa)\n",
    "    for i in range(10):\n",
    "        RT=point_torsion(Pa,Qa,2,ea)\n",
    "        R=RT[0]\n",
    "        ta=RT[1]\n",
    "        if (R*pow(2,ea-1)).x!=0:\n",
    "            break\n",
    "        if i==9:\n",
    "            R.curve=0\n",
    "    if R.curve!=0:\n",
    "        break\n",
    "show(R)"
   ]
  },
  {
   "cell_type": "code",
   "execution_count": 38,
   "metadata": {},
   "outputs": [
    {
     "data": {
      "text/html": [
       "<html><script type=\"math/tex; mode=display\">\\newcommand{\\Bold}[1]{\\mathbf{#1}}\\verb|(2160964109541423669530366531683140944455773536307686557472488020611148926460117876656110881406774765823771051023420530540783646521*z|\\phantom{\\verb!x!}\\verb|+|\\phantom{\\verb!x!}\\verb|14002364966269798151437241360337498284542740753602366616454029729908186802321662438726613523121741673820186701705841220706731015776,8825647418723432688480304035818892067413819871088527915218447073544810197127732760448172088856678188300739852349779623600608841470*z|\\phantom{\\verb!x!}\\verb|+|\\phantom{\\verb!x!}\\verb|3408925789498276915868537860074602656317226414170149884318300340634917985804690512965090880232292175454408480432995417584371149673)|</script></html>"
      ],
      "text/plain": [
       "<__main__.Point object at 0x126bfa710>"
      ]
     },
     "metadata": {},
     "output_type": "display_data"
    },
    {
     "data": {
      "text/html": [
       "<html><script type=\"math/tex; mode=display\">\\newcommand{\\Bold}[1]{\\mathbf{#1}}\\verb|(14503769331448434925723528905735231695803246266347289066042352674408522884583100257553632873344708204238305320226223313207959883708*z|\\phantom{\\verb!x!}\\verb|+|\\phantom{\\verb!x!}\\verb|16344705399181607428325381450311409917197917555599767054281032084587711881594751364407569743652979684404482736236461646716594811231,10945105851036977023649686410076611557009880776581149628511899350115642093793679698421023144402478570738115461469878871907997413012*z|\\phantom{\\verb!x!}\\verb|+|\\phantom{\\verb!x!}\\verb|13299724258526494840337382199789943330497005964538359737830790163923624327626053384792079544897079339425694123436722210922995837445)|</script></html>"
      ],
      "text/plain": [
       "<__main__.Point object at 0x126bc3410>"
      ]
     },
     "metadata": {},
     "output_type": "display_data"
    },
    {
     "data": {
      "text/html": [
       "<html><script type=\"math/tex; mode=display\">\\newcommand{\\Bold}[1]{\\mathbf{#1}}\\verb|(732477339554564469871119468486505158971908718837160141927050083589881050852224989982768128307741040685118707024207973699650059815*z|\\phantom{\\verb!x!}\\verb|+|\\phantom{\\verb!x!}\\verb|24009028136071368417013133620712615461247120321663073385060523500279078474775167455695608433664396260868406094878721004628112238622,15343723504484955918588459406014915069497660425899141445498585088231479601851524188582809814348483887211050149190806854941457221395*z|\\phantom{\\verb!x!}\\verb|+|\\phantom{\\verb!x!}\\verb|10642722038775093633057431284000977861869956222310140277194213223778543550715772973065354181017737385034533204069825448834708108759)|</script></html>"
      ],
      "text/plain": [
       "<__main__.Point object at 0x126c951d0>"
      ]
     },
     "metadata": {},
     "output_type": "display_data"
    }
   ],
   "source": [
    "'''\n",
    "Finding basis of E[3^eb] and point of order 3^eb\n",
    "'''\n",
    "while true:\n",
    "    while true:\n",
    "        P=E.random_point()\n",
    "        Pb=P*(2^ea*f)^2\n",
    "        if Pb.order_torsion(3,eb)==3^eb:\n",
    "            break\n",
    "    show(Pb)\n",
    "    while true:\n",
    "        Q=E.random_point()\n",
    "        Qb=Q*(2^ea*f)^2\n",
    "        W = Pb.Weil_pairing(Qb,3^eb)\n",
    "        if Qb.order_torsion(3,eb)==3^eb and check_order_F(W,3) == eb:\n",
    "            break\n",
    "    show(Qb)\n",
    "    ST=point_torsion(Pb,Qb,3,eb)\n",
    "    S=ST[0]\n",
    "    tb=ST[1]\n",
    "    show(S)\n",
    "    break"
   ]
  },
  {
   "cell_type": "code",
   "execution_count": 39,
   "metadata": {},
   "outputs": [],
   "source": [
    "'''\n",
    "Finding first isogeny of order 2^ea\n",
    "'''\n",
    "phiA=iso_2_e(R,ea,E.a,E.b,Pb,Qb)\n",
    "EaA=phiA[0][0]\n",
    "EaB=phiA[0][1]\n",
    "phiAPb=phiA[1][0]\n",
    "phiAQb=phiA[1][1]"
   ]
  },
  {
   "cell_type": "code",
   "execution_count": 40,
   "metadata": {},
   "outputs": [],
   "source": [
    "'''\n",
    "Finding first isogeny of order 3^eb\n",
    "'''\n",
    "phiB=iso_3_e(S,eb,E.a,E.b,Pa,Qa)\n",
    "EbA=phiB[0][0]\n",
    "EbB=phiB[0][1]\n",
    "phiBPa=phiB[1][0]\n",
    "phiBQa=phiB[1][1]"
   ]
  },
  {
   "cell_type": "code",
   "execution_count": null,
   "metadata": {},
   "outputs": [],
   "source": [
    "'''\n",
    "Curve exchange\n",
    "'''"
   ]
  },
  {
   "cell_type": "code",
   "execution_count": 41,
   "metadata": {},
   "outputs": [
    {
     "data": {
      "text/plain": [
       "21213396732548176588629070183966283856909201753755057412746490513925715573321520897897097433451140494473024526292112855340654354934*z + 11929106190860875068808226886970580759528494133360096243515402090263618698160345330254398433878706742946004854200747063771409900558"
      ]
     },
     "execution_count": 41,
     "metadata": {},
     "output_type": "execute_result"
    }
   ],
   "source": [
    "'''\n",
    "Finding second isogeny of order 2^ea and computing shared key\n",
    "'''\n",
    "phiBR1=phiBQa*ta\n",
    "phiBR=phiBR1+phiBPa\n",
    "psiA=iso_2_e(phiBR,ea,EbA,EbB)\n",
    "EbaA=psiA[0][0]\n",
    "EbaB=psiA[0][1]\n",
    "Eba=MontgomeryEC(EbaA,EbaB,F)\n",
    "Eba.j_invariant()"
   ]
  },
  {
   "cell_type": "code",
   "execution_count": 42,
   "metadata": {},
   "outputs": [
    {
     "data": {
      "text/plain": [
       "21213396732548176588629070183966283856909201753755057412746490513925715573321520897897097433451140494473024526292112855340654354934*z + 11929106190860875068808226886970580759528494133360096243515402090263618698160345330254398433878706742946004854200747063771409900558"
      ]
     },
     "execution_count": 42,
     "metadata": {},
     "output_type": "execute_result"
    }
   ],
   "source": [
    "'''\n",
    "Finding second isogeny of order 3^eb and computing shared key\n",
    "'''\n",
    "phiAS1=phiAQb*tb\n",
    "phiAS=phiAS1+phiAPb\n",
    "psiB=iso_3_e(phiAS,eb,EaA,EaB)\n",
    "EabA=psiB[0][0]\n",
    "EabB=psiB[0][1]\n",
    "Eab=MontgomeryEC(EabA,EabB,F)\n",
    "Eab.j_invariant()"
   ]
  }
 ],
 "metadata": {
  "kernelspec": {
   "display_name": "SageMath 9.1",
   "language": "sage",
   "name": "sagemath"
  },
  "language_info": {
   "codemirror_mode": {
    "name": "ipython",
    "version": 2
   },
   "file_extension": ".py",
   "mimetype": "text/x-python",
   "name": "python",
   "nbconvert_exporter": "python",
   "pygments_lexer": "ipython2",
   "version": "2.7.15"
  }
 },
 "nbformat": 4,
 "nbformat_minor": 2
}
