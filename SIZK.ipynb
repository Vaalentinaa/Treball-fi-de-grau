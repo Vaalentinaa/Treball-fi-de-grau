{
 "cells": [
  {
   "cell_type": "code",
   "execution_count": 1,
   "metadata": {},
   "outputs": [],
   "source": [
    "%run Classes_and_functions.ipynb"
   ]
  },
  {
   "cell_type": "code",
   "execution_count": 2,
   "metadata": {},
   "outputs": [],
   "source": [
    "import time"
   ]
  },
  {
   "cell_type": "code",
   "execution_count": 3,
   "metadata": {},
   "outputs": [],
   "source": [
    "ea=216\n",
    "eb=137\n",
    "f=1"
   ]
  },
  {
   "cell_type": "code",
   "execution_count": 4,
   "metadata": {},
   "outputs": [],
   "source": [
    "p=2^ea*3^eb*f-1"
   ]
  },
  {
   "cell_type": "code",
   "execution_count": 5,
   "metadata": {},
   "outputs": [],
   "source": [
    "F=GF(p^2,'z')"
   ]
  },
  {
   "cell_type": "code",
   "execution_count": 6,
   "metadata": {},
   "outputs": [
    {
     "data": {
      "text/html": [
       "<html><script type=\"math/tex; mode=display\">\\newcommand{\\Bold}[1]{\\mathbf{#1}}\\verb|1y^2|\\phantom{\\verb!x!}\\verb|=|\\phantom{\\verb!x!}\\verb|x^3|\\phantom{\\verb!x!}\\verb|+|\\phantom{\\verb!x!}\\verb|6x^2|\\phantom{\\verb!x!}\\verb|+|\\phantom{\\verb!x!}\\verb|x|</script></html>"
      ],
      "text/plain": [
       "<__main__.MontgomeryEC instance at 0x12afc4ab8>"
      ]
     },
     "metadata": {},
     "output_type": "display_data"
    }
   ],
   "source": [
    "E=MontgomeryEC(6,1,F)\n",
    "show(E)"
   ]
  },
  {
   "cell_type": "code",
   "execution_count": 7,
   "metadata": {},
   "outputs": [
    {
     "data": {
      "text/html": [
       "<html><script type=\"math/tex; mode=display\">\\newcommand{\\Bold}[1]{\\mathbf{#1}}\\verb|(10707408405689190246555206091703193991283176225324486507953635622386057840116684285354294355159115827424782589789448926281183656743*z|\\phantom{\\verb!x!}\\verb|+|\\phantom{\\verb!x!}\\verb|1885661531179765580391637323097365691254695684679591225571809926630000645570469790800748115219194387554397025926111750884955485304,17035875634524247004560468772076711396316477894317110154665407269248099335965610244377266000782601888487692421208462913539831148209*z|\\phantom{\\verb!x!}\\verb|+|\\phantom{\\verb!x!}\\verb|9706024765418287387478310422083359588952114934475097179598057518248602160548110636970759572272001467712517689950950196263146335856)|</script></html>"
      ],
      "text/plain": [
       "<__main__.Point object at 0x12b30e290>"
      ]
     },
     "metadata": {},
     "output_type": "display_data"
    },
    {
     "data": {
      "text/html": [
       "<html><script type=\"math/tex; mode=display\">\\newcommand{\\Bold}[1]{\\mathbf{#1}}\\verb|(7777512640176780030536282657167306227975993492616376106769252361832284684646101695211726337784982392032623074515667145621626896716*z|\\phantom{\\verb!x!}\\verb|+|\\phantom{\\verb!x!}\\verb|16282020099403249730467842406284736084009544372728892962362223089780878879468519961559009662400727020887038120687633676908509948186,20783283366108782817952142578645910899364999901371262722879795746571305668247531812034716738913590396365964716139896827966439485048*z|\\phantom{\\verb!x!}\\verb|+|\\phantom{\\verb!x!}\\verb|17396236025054817175799865824417839404316363508641183818588475675088860524998082746764642195324337785191989262120477581636177776271)|</script></html>"
      ],
      "text/plain": [
       "<__main__.Point object at 0x12b30e650>"
      ]
     },
     "metadata": {},
     "output_type": "display_data"
    },
    {
     "data": {
      "text/html": [
       "<html><script type=\"math/tex; mode=display\">\\newcommand{\\Bold}[1]{\\mathbf{#1}}\\verb|(610556623484349243333484172348411093618857949237720369889798544122376231916128637771303260439809078242364605700731033478694722150*z|\\phantom{\\verb!x!}\\verb|+|\\phantom{\\verb!x!}\\verb|7892054980117084689108076097475314121591304627111858484392931052796560790884228509308434458203197931940810063410977250884485413235,10307807488754752758976716827120280393679338314731042766474723356552778864410102813724206852996994052866697084858266459074559214418*z|\\phantom{\\verb!x!}\\verb|+|\\phantom{\\verb!x!}\\verb|16765070949332961610496123299568302589506826858684167895761034199704946632761475453539032758143523647610685166208096745412746870870)|</script></html>"
      ],
      "text/plain": [
       "<__main__.Point object at 0x12b30e690>"
      ]
     },
     "metadata": {},
     "output_type": "display_data"
    }
   ],
   "source": [
    "'''\n",
    "Generation of Pa,Qa and R (R is the secret someone has to prove)\n",
    "'''\n",
    "while true:\n",
    "    while true:\n",
    "        P=E.random_point()\n",
    "        Pa=P*(3^eb*f)^2\n",
    "        if Pa.order_torsion(2,ea)==2^ea:\n",
    "            break\n",
    "    show(Pa)\n",
    "    while true:\n",
    "        Q=E.random_point()\n",
    "        Qa=Q*(3^eb*f)^2\n",
    "        W=Pa.Weil_pairing(Qa,2^ea)\n",
    "        if Qa.order_torsion(2,ea)==2^ea and check_order_F(W,2) == ea:\n",
    "            break\n",
    "    show(Qa)\n",
    "    for i in range(10):\n",
    "        RT=point_torsion(Pa,Qa,2,ea)\n",
    "        R=RT[0]\n",
    "        ta=RT[1]\n",
    "        if (R*pow(2,ea-1)).x!=0:\n",
    "            break\n",
    "        if i==9:\n",
    "            R.curve=0\n",
    "    if R.curve!=0:\n",
    "        break\n",
    "show(R)"
   ]
  },
  {
   "cell_type": "code",
   "execution_count": 8,
   "metadata": {},
   "outputs": [
    {
     "data": {
      "text/html": [
       "<html><script type=\"math/tex; mode=display\">\\newcommand{\\Bold}[1]{\\mathbf{#1}}\\verb|(9365665111923993171264914177503004327228258737354908901257139157716363790699867484602753080183034479411593640604591655366612506625*z|\\phantom{\\verb!x!}\\verb|+|\\phantom{\\verb!x!}\\verb|15211000224382039369352256831814508687149668834166651462132619883443805824331984188504411134232818812426702876489306342694465504970,23652491936710335446580721362301926095162463240351346036010416913960513836031039087283053693434774459997989861377420959941484407741*z|\\phantom{\\verb!x!}\\verb|+|\\phantom{\\verb!x!}\\verb|19768605968833447547739135769627904735396689700464294339005312319068491341675726818576209107509429433548751882640434140077790439682)|</script></html>"
      ],
      "text/plain": [
       "<__main__.Point object at 0x12ab84c90>"
      ]
     },
     "metadata": {},
     "output_type": "display_data"
    },
    {
     "data": {
      "text/html": [
       "<html><script type=\"math/tex; mode=display\">\\newcommand{\\Bold}[1]{\\mathbf{#1}}\\verb|(10594537463177544916419002885429001657699657566960875119155087802993804415747548670256927869115692529476301797185282082218410273592*z|\\phantom{\\verb!x!}\\verb|+|\\phantom{\\verb!x!}\\verb|5173155857375868230100467935054110769419455751043798180588949499380765851192370470530094960558767506918112613296390357842709378309,7047154496590880175162507785565390689199077508700714840423503466667748208600006096946637379430235073069529602638265035965640168500*z|\\phantom{\\verb!x!}\\verb|+|\\phantom{\\verb!x!}\\verb|8662707447071002555811408012541556008301053436621576786155636954176406620789854007818001788272402979594905648501565104998934806369)|</script></html>"
      ],
      "text/plain": [
       "<__main__.Point object at 0x12b30e810>"
      ]
     },
     "metadata": {},
     "output_type": "display_data"
    }
   ],
   "source": [
    "'''\n",
    "Generation of the basis of the other torsion group Pb and Qb\n",
    "'''\n",
    "while true:\n",
    "    P=E.random_point()\n",
    "    Pb=P*(2^ea*f)^2\n",
    "    if Pb.order_torsion(3,eb)==3^eb:\n",
    "        break\n",
    "show(Pb)\n",
    "while true:\n",
    "    Q=E.random_point()\n",
    "    Qb=Q*(2^ea*f)^2\n",
    "    W = Pb.Weil_pairing(Qb,3^eb)\n",
    "    if Qb.order_torsion(3,eb)==3^eb and check_order_F(W,3) == eb:\n",
    "        break\n",
    "show(Qb)\n"
   ]
  },
  {
   "cell_type": "code",
   "execution_count": 9,
   "metadata": {},
   "outputs": [],
   "source": [
    "'''\n",
    "Generation of the secret isogeny\n",
    "'''\n",
    "phiA=iso_2_e(R,ea,E.a,E.b,Pb,Qb)\n",
    "EaA=phiA[0][0]\n",
    "EaB=phiA[0][1]\n",
    "phiAPb=phiA[1][0]\n",
    "phiAQb=phiA[1][1]"
   ]
  },
  {
   "cell_type": "code",
   "execution_count": 37,
   "metadata": {},
   "outputs": [],
   "source": [
    "'''\n",
    "Function for each iteration of the verification. This part is done by the verificator.\n",
    "'''\n",
    "@parallel(ncpus=20)\n",
    "def verificacio(algo):\n",
    "    Spt=point_torsion(Pb,Qb,3,eb)\n",
    "    S=Spt[0]\n",
    "    tb=Spt[1]\n",
    "    phiB=iso_3_e(S,eb,E.a,E.b,Pa,Qa)\n",
    "    EbA=phiB[0][0]\n",
    "    EbB=phiB[0][1]\n",
    "    phiBPa=phiB[1][0]\n",
    "    phiBQa=phiB[1][1]\n",
    "    Eb=MontgomeryEC(EbA,EbB,F)\n",
    "    jEb=Eb.j_invariant()\n",
    "    \n",
    "    phiBR1=phiBQa*ta\n",
    "    phiBR=phiBR1+phiBPa\n",
    "    psiA=iso_2_e(phiBR,ea,EbA,EbB)\n",
    "    EbaA=psiA[0][0]\n",
    "    EbaB=psiA[0][1]\n",
    "    Eba=MontgomeryEC(EbaA,EbaB,F)\n",
    "    jEab=Eba.j_invariant()\n",
    "    \n",
    "    phiAS1 = phiAQb*tb\n",
    "    phiAS = phiAS1+phiAPb\n",
    "    b=randint(0,1)\n",
    "    if (b==0):\n",
    "        if(S.order_torsion(3,eb)!=pow(3,eb) or phiAS.order_torsion(3,eb) != pow(3,eb)):\n",
    "            return False\n",
    "        isog1=iso_3_e(S,eb,E.a,E.b)\n",
    "        EbA1=isog1[0][0]\n",
    "        EbB1=isog1[0][1]\n",
    "        Eb1=MontgomeryEC(EbA1,EbB1,F)\n",
    "        j1=Eb1.j_invariant()\n",
    "        isog2=iso_3_e(phiAS,eb,EaA,EaB)\n",
    "        EaA1=isog2[0][0]\n",
    "        EaB1=isog2[0][1]\n",
    "        Ea1=MontgomeryEC(EaA1,EaB1,F)\n",
    "        j2=Ea1.j_invariant()\n",
    "        if (j1!= jEb or j2!= jEab):\n",
    "            return False\n",
    "        return True\n",
    "    else:\n",
    "        if(phiBR.order_torsion(2,ea)!=pow(2,ea)):\n",
    "            return False\n",
    "        isog1=iso_2_e(phiBR,ea,EbA,EbB)\n",
    "        EabA1=isog1[0][0]\n",
    "        EabB1=isog1[0][1]\n",
    "        Eab1 = MontgomeryEC(EabA1,EabB1,F)\n",
    "        j1=Eab1.j_invariant()\n",
    "        if (j1!= jEab):\n",
    "\n",
    "            return False\n",
    "        return(True)"
   ]
  },
  {
   "cell_type": "code",
   "execution_count": 53,
   "metadata": {},
   "outputs": [
    {
     "name": "stdout",
     "output_type": "stream",
     "text": [
      "Correct authentification\n"
     ]
    }
   ],
   "source": [
    "'''\n",
    "Verification\n",
    "'''\n",
    "start = time.time()\n",
    "a=sorted(list(verificacio(range(20))))\n",
    "for x in a:\n",
    "    if x[1] != True:\n",
    "        print('Authentification error')\n",
    "        break\n",
    "    if x==a[-1]:\n",
    "        print('Correct authentification')\n",
    "end=time.time()"
   ]
  },
  {
   "cell_type": "code",
   "execution_count": 54,
   "metadata": {},
   "outputs": [
    {
     "name": "stdout",
     "output_type": "stream",
     "text": [
      "17.0897169113\n"
     ]
    }
   ],
   "source": [
    "'''\n",
    "Time elapsed for the verification\n",
    "'''\n",
    "print(end-start)"
   ]
  }
 ],
 "metadata": {
  "kernelspec": {
   "display_name": "SageMath 9.1",
   "language": "sage",
   "name": "sagemath"
  },
  "language_info": {
   "codemirror_mode": {
    "name": "ipython",
    "version": 2
   },
   "file_extension": ".py",
   "mimetype": "text/x-python",
   "name": "python",
   "nbconvert_exporter": "python",
   "pygments_lexer": "ipython2",
   "version": "2.7.15"
  }
 },
 "nbformat": 4,
 "nbformat_minor": 2
}
