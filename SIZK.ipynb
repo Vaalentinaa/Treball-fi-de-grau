{
 "cells": [
  {
   "cell_type": "code",
   "execution_count": 1,
   "metadata": {},
   "outputs": [],
   "source": [
    "%run Classes_and_functions.ipynb"
   ]
  },
  {
   "cell_type": "code",
   "execution_count": 2,
   "metadata": {},
   "outputs": [],
   "source": [
    "import time"
   ]
  },
  {
   "cell_type": "code",
   "execution_count": 3,
   "metadata": {},
   "outputs": [],
   "source": [
    "ea=216\n",
    "eb=137\n",
    "f=1"
   ]
  },
  {
   "cell_type": "code",
   "execution_count": 4,
   "metadata": {},
   "outputs": [],
   "source": [
    "p=2^ea*3^eb*f-1"
   ]
  },
  {
   "cell_type": "code",
   "execution_count": 5,
   "metadata": {},
   "outputs": [],
   "source": [
    "F=GF(p^2,'z')"
   ]
  },
  {
   "cell_type": "code",
   "execution_count": 6,
   "metadata": {},
   "outputs": [
    {
     "data": {
      "text/html": [
       "<html><script type=\"math/tex; mode=display\">\\newcommand{\\Bold}[1]{\\mathbf{#1}}\\verb|1y^2|\\phantom{\\verb!x!}\\verb|=|\\phantom{\\verb!x!}\\verb|x^3|\\phantom{\\verb!x!}\\verb|+|\\phantom{\\verb!x!}\\verb|6x^2|\\phantom{\\verb!x!}\\verb|+|\\phantom{\\verb!x!}\\verb|x|</script></html>"
      ],
      "text/plain": [
       "<__main__.MontgomeryEC instance at 0x12ad9ff38>"
      ]
     },
     "metadata": {},
     "output_type": "display_data"
    }
   ],
   "source": [
    "E=MontgomeryEC(6,1,F)\n",
    "show(E)"
   ]
  },
  {
   "cell_type": "code",
   "execution_count": 7,
   "metadata": {},
   "outputs": [
    {
     "data": {
      "text/html": [
       "<html><script type=\"math/tex; mode=display\">\\newcommand{\\Bold}[1]{\\mathbf{#1}}\\verb|(24296339330483116966479107103345728690252462009829154148800023360071889328062624365928746531219680865299015643676732595159179835840*z|\\phantom{\\verb!x!}\\verb|+|\\phantom{\\verb!x!}\\verb|4835566809346276955224665471602153587834507918608480137443321007922151512041377064129056014148438007119882487639522681657238097601,3531812259791393708370029673473443189309368566688817517836135125117579052894351446278472556090673273147024382671295225862388389187*z|\\phantom{\\verb!x!}\\verb|+|\\phantom{\\verb!x!}\\verb|15393083248365270987632797889431799724127026259223487466061452341931721363264454779348226823989990901504659848425141502803792678096)|</script></html>"
      ],
      "text/plain": [
       "<__main__.Point object at 0x12b0f6a10>"
      ]
     },
     "metadata": {},
     "output_type": "display_data"
    },
    {
     "data": {
      "text/html": [
       "<html><script type=\"math/tex; mode=display\">\\newcommand{\\Bold}[1]{\\mathbf{#1}}\\verb|(11102698487874820525833555237286928318242424926340194315497294537788950376255237972359963944113587255258497372415303446241744276988*z|\\phantom{\\verb!x!}\\verb|+|\\phantom{\\verb!x!}\\verb|1613859275217611974129205446592044201183944074701415882834728932401250484442794968666928835251998357475865658687981574171339036882,17265691047227478612781792947448403201724129595823422452052228752010984366837177473435376459114900265103810867511806464157377183955*z|\\phantom{\\verb!x!}\\verb|+|\\phantom{\\verb!x!}\\verb|10936930559172345031960094541971658150586251762047659068259862860198282182211905080183742285656533090442974259179723861825800938827)|</script></html>"
      ],
      "text/plain": [
       "<__main__.Point object at 0x123270d10>"
      ]
     },
     "metadata": {},
     "output_type": "display_data"
    },
    {
     "data": {
      "text/html": [
       "<html><script type=\"math/tex; mode=display\">\\newcommand{\\Bold}[1]{\\mathbf{#1}}\\verb|(14765339920812933663837841926678450847907218595963429856227653407181922856650051249260479561860267078159012717493476039980387110411*z|\\phantom{\\verb!x!}\\verb|+|\\phantom{\\verb!x!}\\verb|16498699639125926767843326576910811383079411282281376961079179131343147647536151123116050308944839438972649204382017002533441557168,20889527204337852084495618870609217995758087878728268386791687432720604195651183609837189377997937187676625894007113109584343211024*z|\\phantom{\\verb!x!}\\verb|+|\\phantom{\\verb!x!}\\verb|12861567785926084452101486254926579000160545112581833265745246916929996947685661473019043327281026110140909539720660320638705725690)|</script></html>"
      ],
      "text/plain": [
       "<__main__.Point object at 0x12b0f6c10>"
      ]
     },
     "metadata": {},
     "output_type": "display_data"
    }
   ],
   "source": [
    "'''\n",
    "Generation of Pa,Qa and R (R is the secret someone has to prove)\n",
    "'''\n",
    "while true:\n",
    "    while true:\n",
    "        P=E.random_point()\n",
    "        Pa=P*(3^eb*f)^2\n",
    "        if Pa.order_torsion(2,ea)==2^ea:\n",
    "            break\n",
    "    show(Pa)\n",
    "    while true:\n",
    "        Q=E.random_point()\n",
    "        Qa=Q*(3^eb*f)^2\n",
    "        W=Pa.Weil_pairing(Qa,2^ea)\n",
    "        if Qa.order_torsion(2,ea)==2^ea and check_order_F(W,2) == ea:\n",
    "            break\n",
    "    show(Qa)\n",
    "    for i in range(10):\n",
    "        RT=point_torsion(Pa,Qa,2,ea)\n",
    "        R=RT[0]\n",
    "        ta=RT[1]\n",
    "        if (R*pow(2,ea-1)).x!=0:\n",
    "            break\n",
    "        if i==9:\n",
    "            R.curve=0\n",
    "    if R.curve!=0:\n",
    "        break\n",
    "show(R)"
   ]
  },
  {
   "cell_type": "code",
   "execution_count": 8,
   "metadata": {},
   "outputs": [
    {
     "data": {
      "text/html": [
       "<html><script type=\"math/tex; mode=display\">\\newcommand{\\Bold}[1]{\\mathbf{#1}}\\verb|(17228333634275051974568313512002657841055862098909746848326726968434649576722799913959703406592281240779452582548351038206682533591*z|\\phantom{\\verb!x!}\\verb|+|\\phantom{\\verb!x!}\\verb|14184284954783120624480582511083307834647357820797847405849326759384789928960331807689836414719350708744679330101792378548653206984,4522321721537745634260644893795149952839251669887384464777060134509230056548980997599691650739762610090835428326321612242574685236*z|\\phantom{\\verb!x!}\\verb|+|\\phantom{\\verb!x!}\\verb|9279526925241959850421335634220558104653481982389575406485176025828769865919548323519566636079801817461927901710300565157353615561)|</script></html>"
      ],
      "text/plain": [
       "<__main__.Point object at 0x12b0f6890>"
      ]
     },
     "metadata": {},
     "output_type": "display_data"
    },
    {
     "data": {
      "text/html": [
       "<html><script type=\"math/tex; mode=display\">\\newcommand{\\Bold}[1]{\\mathbf{#1}}\\verb|(7254541326748497537105718395000474074288419875861153973529291240499505682948647159340068445069637867071317024552546316717874671725*z|\\phantom{\\verb!x!}\\verb|+|\\phantom{\\verb!x!}\\verb|14926164543795325036272731317511181198662582544194074203292553268726200488517317533806384228198859592653822705222077302555029691576,17993237632982512413461211076426311646129111577792871067287709128169168692216225640402391947335894752030411535767901780430583139080*z|\\phantom{\\verb!x!}\\verb|+|\\phantom{\\verb!x!}\\verb|14445520350004128205429802355002575405221648306127005170254225612844721125253169322835133601681751690273725909356681981300124010271)|</script></html>"
      ],
      "text/plain": [
       "<__main__.Point object at 0x12b0f6e50>"
      ]
     },
     "metadata": {},
     "output_type": "display_data"
    }
   ],
   "source": [
    "'''\n",
    "Generation of the basis of the other torsion group Pb and Qb\n",
    "'''\n",
    "while true:\n",
    "    P=E.random_point()\n",
    "    Pb=P*(2^ea*f)^2\n",
    "    if Pb.order_torsion(3,eb)==3^eb:\n",
    "        break\n",
    "show(Pb)\n",
    "while true:\n",
    "    Q=E.random_point()\n",
    "    Qb=Q*(2^ea*f)^2\n",
    "    W = Pb.Weil_pairing(Qb,3^eb)\n",
    "    if Qb.order_torsion(3,eb)==3^eb and check_order_F(W,3) == eb:\n",
    "        break\n",
    "show(Qb)\n"
   ]
  },
  {
   "cell_type": "code",
   "execution_count": 9,
   "metadata": {},
   "outputs": [],
   "source": [
    "'''\n",
    "Generation of the secret isogeny\n",
    "'''\n",
    "phiA=iso_2_e(R,ea,E.a,E.b,Pb,Qb)\n",
    "EaA=phiA[0][0]\n",
    "EaB=phiA[0][1]\n",
    "phiAPb=phiA[1][0]\n",
    "phiAQb=phiA[1][1]"
   ]
  },
  {
   "cell_type": "code",
   "execution_count": 10,
   "metadata": {},
   "outputs": [],
   "source": [
    "'''\n",
    "Function for each iteration of the verification. This part is done by the verificator.\n",
    "'''\n",
    "@parallel(ncpus=20)\n",
    "def verificacio(algo):\n",
    "    Spt=point_torsion(Pb,Qb,3,eb)\n",
    "    S=Spt[0]\n",
    "    tb=Spt[1]\n",
    "    phiB=iso_3_e(S,eb,E.a,E.b,Pa,Qa)\n",
    "    EbA=phiB[0][0]\n",
    "    EbB=phiB[0][1]\n",
    "    phiBPa=phiB[1][0]\n",
    "    phiBQa=phiB[1][1]\n",
    "    Eb=MontgomeryEC(EbA,EbB,F)\n",
    "    jEb=Eb.j_invariant()\n",
    "    \n",
    "    phiBR1=phiBQa*ta\n",
    "    phiBR=phiBR1+phiBPa\n",
    "    psiA=iso_2_e(phiBR,ea,EbA,EbB)\n",
    "    EbaA=psiA[0][0]\n",
    "    EbaB=psiA[0][1]\n",
    "    Eba=MontgomeryEC(EbaA,EbaB,F)\n",
    "    jEab=Eba.j_invariant()\n",
    "    \n",
    "    phiAS1 = phiAQb*tb\n",
    "    phiAS = phiAS1+phiAPb\n",
    "    b=randint(0,1)\n",
    "    if (b==0):\n",
    "        if(S.order_torsion(3,eb)!=pow(3,eb) or phiAS.order_torsion(3,eb) != pow(3,eb)):\n",
    "            return False\n",
    "        isog1=iso_3_e(S,eb,E.a,E.b)\n",
    "        EbA1=isog1[0][0]\n",
    "        EbB1=isog1[0][1]\n",
    "        Eb1=MontgomeryEC(EbA1,EbB1,F)\n",
    "        j1=Eb1.j_invariant()\n",
    "        isog2=iso_3_e(phiAS,eb,EaA,EaB)\n",
    "        EaA1=isog2[0][0]\n",
    "        EaB1=isog2[0][1]\n",
    "        Ea1=MontgomeryEC(EaA1,EaB1,F)\n",
    "        j2=Ea1.j_invariant()\n",
    "        if (j1!= jEb or j2!= jEab):\n",
    "            return False\n",
    "        return True\n",
    "    else:\n",
    "        if(phiBR.order_torsion(2,ea)!=pow(2,ea)):\n",
    "            return False\n",
    "        isog1=iso_2_e(phiBR,ea,EbA,EbB)\n",
    "        EabA1=isog1[0][0]\n",
    "        EabB1=isog1[0][1]\n",
    "        Eab1 = MontgomeryEC(EabA1,EabB1,F)\n",
    "        j1=Eab1.j_invariant()\n",
    "        if (j1!= jEab):\n",
    "\n",
    "            return False\n",
    "        return(True)"
   ]
  },
  {
   "cell_type": "code",
   "execution_count": 11,
   "metadata": {},
   "outputs": [
    {
     "name": "stdout",
     "output_type": "stream",
     "text": [
      "Correct authentication\n"
     ]
    }
   ],
   "source": [
    "'''\n",
    "Verification\n",
    "'''\n",
    "start = time.time()\n",
    "a=sorted(list(verificacio(range(20))))\n",
    "for x in a:\n",
    "    if x[1] != True:\n",
    "        print('Authentication error')\n",
    "        break\n",
    "    if x==a[-1]:\n",
    "        print('Correct authentication')\n",
    "end=time.time()"
   ]
  },
  {
   "cell_type": "code",
   "execution_count": 12,
   "metadata": {},
   "outputs": [
    {
     "name": "stdout",
     "output_type": "stream",
     "text": [
      "17.2886691093\n"
     ]
    }
   ],
   "source": [
    "'''\n",
    "Time elapsed for the verification\n",
    "'''\n",
    "print(end-start)"
   ]
  },
  {
   "cell_type": "code",
   "execution_count": null,
   "metadata": {},
   "outputs": [],
   "source": []
  }
 ],
 "metadata": {
  "kernelspec": {
   "display_name": "SageMath 9.1",
   "language": "sage",
   "name": "sagemath"
  },
  "language_info": {
   "codemirror_mode": {
    "name": "ipython",
    "version": 2
   },
   "file_extension": ".py",
   "mimetype": "text/x-python",
   "name": "python",
   "nbconvert_exporter": "python",
   "pygments_lexer": "ipython2",
   "version": "2.7.15"
  }
 },
 "nbformat": 4,
 "nbformat_minor": 2
}
